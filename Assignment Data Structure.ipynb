{
 "cells": [
  {
   "cell_type": "markdown",
   "id": "3c25885b-9741-41b5-a2f5-de821f0260ee",
   "metadata": {},
   "source": [
    "# Assignment: Data Structure"
   ]
  },
  {
   "cell_type": "markdown",
   "id": "910a57b8-f26d-4d49-b78a-65cdaa0b508e",
   "metadata": {},
   "source": [
    "## Ques 1. Discuss String Slicing and provide examples."
   ]
  },
  {
   "cell_type": "markdown",
   "id": "e40b1d6c-5779-4129-99c9-7f5d8d612102",
   "metadata": {
    "tags": []
   },
   "source": [
    "######\n",
    "Slicing is a versatile and efficient way to manipulate strings without modifying the original sequence. It helps in extracting substrings, reversing strings, and more. It is a way to extract a portion or segment of a string in programming languages, such as Python. It allows you to access substrings by specifying a range of index positions within the original string.\n",
    "\n",
    "A string in most languages is an ordered sequence of characters, each associated with an index. In slicing, you define a starting index and an optional ending index, which determines the range of characters to extract."
   ]
  },
  {
   "cell_type": "markdown",
   "id": "d40851c4-2249-431e-8dad-05710ca6add0",
   "metadata": {
    "jp-MarkdownHeadingCollapsed": true,
    "tags": []
   },
   "source": [
    "### Behavior of Slicing \n",
    "1. Negative Indexing: \n",
    "Negative indices allow access to characters starting from the end of the string. For instance, -1 refers to the last character, -2 to the second-last, and so on.\n",
    "\n",
    "2. Bounds Handling: If the starting or ending index is outside the bounds of the string, slicing does not raise an error; it adjusts automatically within the available range.\n",
    "\n",
    "3. Empty Slices: If the starting index is equal to or greater than the ending index (with positive step), or if the step is negative and the starting index is smaller than the ending index, the result is an empty slice."
   ]
  },
  {
   "cell_type": "markdown",
   "id": "ad96f6cb-364e-43ec-8758-d378cc139b9a",
   "metadata": {
    "jp-MarkdownHeadingCollapsed": true,
    "tags": []
   },
   "source": [
    "### Key Components of String Slicing\n",
    "1. Starting Index: This is the position where the slice begins. If omitted, it defaults to the beginning of the string.\n",
    "\n",
    "2. Ending Index: This is the position where the slice ends. The character at this index is not included in the slice. If omitted, the slice continues until the end of the string."
   ]
  },
  {
   "cell_type": "markdown",
   "id": "36ac4687-ecd6-4988-8737-49819886bb4f",
   "metadata": {},
   "source": [
    "### Examples of String slicing"
   ]
  },
  {
   "cell_type": "code",
   "execution_count": 1,
   "id": "8390b468-4d96-4cee-8e36-c7c39a5b88d7",
   "metadata": {},
   "outputs": [
    {
     "name": "stdout",
     "output_type": "stream",
     "text": [
      "Hello\n"
     ]
    }
   ],
   "source": [
    "text = \"Hello, World!\"\n",
    "substring = text[0:5]  # Extract characters from index 0 to 4 (stop is exclusive)\n",
    "print(substring)"
   ]
  },
  {
   "cell_type": "code",
   "execution_count": 2,
   "id": "c816d6c4-ee28-40f4-99a2-18103a8c0706",
   "metadata": {},
   "outputs": [
    {
     "name": "stdout",
     "output_type": "stream",
     "text": [
      "Pyt\n",
      "hon\n"
     ]
    }
   ],
   "source": [
    "text = \"Python\"\n",
    "print(text[:3])   # From the beginning to index 2\n",
    "print(text[3:])   # From index 3 to the end"
   ]
  },
  {
   "cell_type": "code",
   "execution_count": 3,
   "id": "e52eb68e-a00d-4889-9279-472b4457f3dc",
   "metadata": {},
   "outputs": [
    {
     "name": "stdout",
     "output_type": "stream",
     "text": [
      "hon\n",
      "Pyt\n"
     ]
    }
   ],
   "source": [
    "text = \"Python\"\n",
    "print(text[-3:])    # Last 3 characters\n",
    "print(text[:-3])    # All except the last 3 characters"
   ]
  },
  {
   "cell_type": "code",
   "execution_count": 4,
   "id": "ab643d90-a3be-444b-b899-30cd97a0840f",
   "metadata": {},
   "outputs": [
    {
     "name": "stdout",
     "output_type": "stream",
     "text": [
      "ace\n",
      "fedcba\n"
     ]
    }
   ],
   "source": [
    "text = \"abcdef\"\n",
    "print(text[::2])    # Every second character\n",
    "print(text[::-1])   # Reversing the string"
   ]
  },
  {
   "cell_type": "code",
   "execution_count": 5,
   "id": "8d0c4eac-3e87-4d10-aae7-34bfd7ec422e",
   "metadata": {},
   "outputs": [
    {
     "name": "stdout",
     "output_type": "stream",
     "text": [
      "531\n"
     ]
    }
   ],
   "source": [
    "text = \"12345\"\n",
    "print(text[::-2])   # Reverse the string, skipping one character at a time"
   ]
  },
  {
   "cell_type": "markdown",
   "id": "1b93391c-1451-4e4d-a434-59ac97804012",
   "metadata": {},
   "source": [
    "## Ques 2. Explain the key features of lists in python"
   ]
  },
  {
   "cell_type": "markdown",
   "id": "fbd0c3b4-d3e7-4018-969b-0f5c8fb2cc5b",
   "metadata": {},
   "source": [
    "In Python, lists are a versatile and commonly used data structure. They are dynamic, mutable, and can store elements of different data types. Here are some key features:\n",
    "\n",
    "### 1. Ordered\n",
    "Lists maintain the order of elements as they are inserted. You can access elements using indices, where the first element is at index 0.\n",
    "\n",
    "### 2. Mutable\n",
    "Lists are mutable, meaning their elements can be changed after creation. You can add, remove, or modify elements."
   ]
  },
  {
   "cell_type": "code",
   "execution_count": 12,
   "id": "82258ddc-0126-455c-8988-70712ffde5bf",
   "metadata": {},
   "outputs": [
    {
     "data": {
      "text/plain": [
       "[10, 2, 3]"
      ]
     },
     "execution_count": 12,
     "metadata": {},
     "output_type": "execute_result"
    }
   ],
   "source": [
    "my_list = [1, 2, 3]\n",
    "my_list[0] = 10  # Modifies the first element\n",
    "my_list\n"
   ]
  },
  {
   "cell_type": "markdown",
   "id": "298ea66d-dd90-4e95-aa11-1327a4c7e324",
   "metadata": {},
   "source": [
    "### 3. Dynamic\n",
    "Lists can grow or shrink dynamically. You don't need to specify the size when creating a list; elements can be added or removed on the fly.\n",
    "\n",
    "### 4. Heterogeneous Elements\n",
    "Lists can hold elements of different data types (e.g., integers, strings, floats, etc.) in the same list."
   ]
  },
  {
   "cell_type": "code",
   "execution_count": 14,
   "id": "acb0aa73-5078-4657-933a-4c0c261387d0",
   "metadata": {},
   "outputs": [
    {
     "data": {
      "text/plain": [
       "[1, 'apple', 3.14, True]"
      ]
     },
     "execution_count": 14,
     "metadata": {},
     "output_type": "execute_result"
    }
   ],
   "source": [
    "mixed_list = [1, \"apple\", 3.14, True]\n",
    "mixed_list"
   ]
  },
  {
   "cell_type": "markdown",
   "id": "4c2ee1e7-681b-409d-ae65-142ef6febf12",
   "metadata": {},
   "source": [
    "### 5. Indexing and Slicing\n",
    "You can access individual elements via indexing and retrieve sublists via slicing."
   ]
  },
  {
   "cell_type": "code",
   "execution_count": 15,
   "id": "db5545b4-74d5-48df-a6e5-516e81376000",
   "metadata": {},
   "outputs": [
    {
     "name": "stdout",
     "output_type": "stream",
     "text": [
      "2\n",
      "[2, 3]\n"
     ]
    }
   ],
   "source": [
    "my_list = [1, 2, 3, 4]\n",
    "print(my_list[1])       # Accesses element at index 1 (output: 2)\n",
    "print(my_list[1:3])     # Slices list from index 1 to 2 (output: [2, 3])\n"
   ]
  },
  {
   "cell_type": "markdown",
   "id": "9d163859-f205-4ef8-a0c2-11c38e858301",
   "metadata": {},
   "source": [
    "### 6. Duplicate Elements\n",
    "Lists allow duplicate values, meaning the same value can appear multiple times."
   ]
  },
  {
   "cell_type": "code",
   "execution_count": 17,
   "id": "e3c8fa39-fbdb-464c-be7e-5a185794e943",
   "metadata": {},
   "outputs": [
    {
     "data": {
      "text/plain": [
       "[1, 2, 2, 3, 4, 4]"
      ]
     },
     "execution_count": 17,
     "metadata": {},
     "output_type": "execute_result"
    }
   ],
   "source": [
    "duplicates = [1, 2, 2, 3, 4, 4]\n",
    "duplicates"
   ]
  },
  {
   "cell_type": "markdown",
   "id": "aa40ed04-8f66-4fd6-afcb-bdc971e22247",
   "metadata": {},
   "source": [
    "### 7. Various Built-in Functions\n",
    "Python provides various built-in methods for lists, such as:\n",
    "1. append(): Adds an element to the end of the list.\n",
    "2. extend(): Adds multiple elements to the end of the list.\n",
    "3. insert(): Inserts an element at a specified index.\n",
    "4. remove(): Removes the first occurrence of a value.\n",
    "5. pop(): Removes an element at a given index or the last element if no index is provided.\n",
    "6. sort(): Sorts the list in-place.\n",
    "7. reverse(): Reverses the order of the list in-place."
   ]
  },
  {
   "cell_type": "code",
   "execution_count": 22,
   "id": "e565345f-7995-40de-86cd-2b76f9126157",
   "metadata": {},
   "outputs": [
    {
     "data": {
      "text/plain": [
       "[1, 2, 3, 4, 5]"
      ]
     },
     "execution_count": 22,
     "metadata": {},
     "output_type": "execute_result"
    }
   ],
   "source": [
    "my_list = [3, 1, 4, 2]\n",
    "my_list.append(5)  # [3, 1, 4, 2, 5]\n",
    "my_list.sort()     # [1, 2, 3, 4, 5]\n",
    "my_list"
   ]
  },
  {
   "cell_type": "markdown",
   "id": "312770e6-c684-4af4-9532-6d8e9d36968f",
   "metadata": {},
   "source": [
    "### 8. List Comprehension\n",
    "Python supports concise list creation through list comprehensions, which allow creating new lists by applying an expression to each item in an iterable."
   ]
  },
  {
   "cell_type": "code",
   "execution_count": 23,
   "id": "8659709b-d620-45ea-89ef-de9432baf9fe",
   "metadata": {},
   "outputs": [
    {
     "data": {
      "text/plain": [
       "[0, 1, 4, 9, 16]"
      ]
     },
     "execution_count": 23,
     "metadata": {},
     "output_type": "execute_result"
    }
   ],
   "source": [
    "squares = [x**2 for x in range(5)]  # [0, 1, 4, 9, 16]\n",
    "squares"
   ]
  },
  {
   "cell_type": "markdown",
   "id": "e4c53b88-e42d-4a6d-a28b-f50b15f56062",
   "metadata": {},
   "source": [
    "### 9. Nested Lists\n",
    "Lists can contain other lists as elements, enabling the creation of multi-dimensional data structures like matrices."
   ]
  },
  {
   "cell_type": "code",
   "execution_count": 24,
   "id": "46c8e0f2-d8c0-4a46-9380-4376132b5d3a",
   "metadata": {},
   "outputs": [
    {
     "data": {
      "text/plain": [
       "[[1, 2], [3, 4], [5, 6]]"
      ]
     },
     "execution_count": 24,
     "metadata": {},
     "output_type": "execute_result"
    }
   ],
   "source": [
    "matrix = [[1, 2], [3, 4], [5, 6]]\n",
    "matrix"
   ]
  },
  {
   "cell_type": "markdown",
   "id": "0fd7ed0b-ebe7-4b99-9846-48d15963edf8",
   "metadata": {},
   "source": [
    "## Ques. 3 Describe how to access, modify and delete elements in a list with examples"
   ]
  },
  {
   "cell_type": "markdown",
   "id": "fac5fe82-6991-4038-b1f8-8fb752749ed6",
   "metadata": {},
   "source": [
    "### 1. Accessing Elements\n",
    "You can access elements in a list using their index. Python uses zero-based indexing, so the first element is at index 0."
   ]
  },
  {
   "cell_type": "code",
   "execution_count": 1,
   "id": "1b60ede3-8d66-43e4-a642-85fbaa90ebd3",
   "metadata": {},
   "outputs": [
    {
     "name": "stdout",
     "output_type": "stream",
     "text": [
      "apple\n",
      "cherry\n",
      "date\n",
      "cherry\n"
     ]
    }
   ],
   "source": [
    "# Creating a list\n",
    "fruits = ['apple', 'banana', 'cherry', 'date']\n",
    "\n",
    "# Accessing elements\n",
    "print(fruits[0])  # Output: 'apple'\n",
    "print(fruits[2])  # Output: 'cherry'\n",
    "\n",
    "# Accessing elements from the end\n",
    "print(fruits[-1])  # Output: 'date'\n",
    "print(fruits[-2])  # Output: 'cherry'"
   ]
  },
  {
   "cell_type": "markdown",
   "id": "a2d7e679-c899-4564-a32a-4f4d5f08c3b2",
   "metadata": {},
   "source": [
    "### 2. Modifying Elements\n",
    "You can modify elements in a list by assigning a new value to an index."
   ]
  },
  {
   "cell_type": "code",
   "execution_count": 4,
   "id": "dda12e5e-a6a0-4b42-be54-321414dcecd0",
   "metadata": {},
   "outputs": [
    {
     "name": "stdout",
     "output_type": "stream",
     "text": [
      "['apple', 'blueberry', 'cherry', 'date']\n"
     ]
    }
   ],
   "source": [
    "# Modifying elements in the list\n",
    "fruits = ['apple', 'banana', 'cherry', 'date']\n",
    "fruits[1] = 'blueberry'\n",
    "print(fruits)  # Output: ['apple', 'blueberry', 'cherry', 'date']\n"
   ]
  },
  {
   "cell_type": "markdown",
   "id": "eb09564b-1b6a-47e0-8b23-f4ed58644c3c",
   "metadata": {},
   "source": [
    "### 3. Deleting Elements\n",
    "There are several ways to delete elements from a list in Python:\n",
    "\n",
    "1. Using del: Removes an element by its index.\n",
    "2. Using remove(): Removes the first occurrence of a specific value.\n",
    "3. Using pop(): Removes an element by its index and returns it.\n",
    "4. Using slicing: Remove multiple elements."
   ]
  },
  {
   "cell_type": "code",
   "execution_count": 6,
   "id": "21df4b6c-3dff-4cc8-a960-01ce5d3c66fe",
   "metadata": {},
   "outputs": [
    {
     "name": "stdout",
     "output_type": "stream",
     "text": [
      "['apple', 'blueberry', 'date']\n",
      "['apple', 'date']\n",
      "apple\n",
      "['date']\n",
      "['apple', 'date']\n"
     ]
    }
   ],
   "source": [
    "# Deleting with del\n",
    "fruits = ['apple', 'blueberry', 'cherry', 'date']\n",
    "del fruits[2]\n",
    "print(fruits)  # Output: ['apple', 'blueberry', 'date']\n",
    "\n",
    "# Deleting with remove()\n",
    "fruits.remove('blueberry')\n",
    "print(fruits)  # Output: ['apple', 'date']\n",
    "\n",
    "# Deleting with pop()\n",
    "popped_fruit = fruits.pop(0)\n",
    "print(popped_fruit)  # Output: 'apple'\n",
    "print(fruits)  # Output: ['date']\n",
    "\n",
    "# Deleting multiple elements using slicing\n",
    "fruits = ['apple', 'banana', 'cherry', 'date']\n",
    "del fruits[1:3]\n",
    "print(fruits)  # Output: ['apple', 'date']"
   ]
  },
  {
   "cell_type": "markdown",
   "id": "b6854cd4-f1b6-4c81-a230-d1d893ec0636",
   "metadata": {},
   "source": [
    "## Ques 4. Compare and contrast tuples and lists wiith examples"
   ]
  },
  {
   "cell_type": "markdown",
   "id": "06c94e9f-4a3a-4ba0-8053-5b1978118d03",
   "metadata": {},
   "source": [
    "### Tuples vs. Lists in Python\n",
    "Both tuples and lists are sequence data structures in Python that can store collections of items but they have distinct differences in terms of mutability, syntax, and usage. Let's compare and contrast them with examples.\n",
    "### 1. Mutability\n",
    "List: Lists are mutable, meaning you can change, add, or remove elements after the list is created.\n",
    "\n",
    "Tuple: Tuples are immutable, meaning once a tuple is created, its elements cannot be changed, added, or removed."
   ]
  },
  {
   "cell_type": "code",
   "execution_count": 21,
   "id": "9b4e77ba-3329-475d-b0ce-49b62b53826c",
   "metadata": {},
   "outputs": [
    {
     "name": "stdout",
     "output_type": "stream",
     "text": [
      "['apple', 'blueberry', 'cherry']\n"
     ]
    }
   ],
   "source": [
    "# List example\n",
    "fruits_list = ['apple', 'banana', 'cherry']\n",
    "fruits_list[1] = 'blueberry'  # Modifying an element\n",
    "print(fruits_list)  # Output: ['apple', 'blueberry', 'cherry']"
   ]
  },
  {
   "cell_type": "code",
   "execution_count": 23,
   "id": "de3f1160",
   "metadata": {},
   "outputs": [
    {
     "ename": "TypeError",
     "evalue": "'tuple' object does not support item assignment",
     "output_type": "error",
     "traceback": [
      "\u001b[0;31m---------------------------------------------------------------------------\u001b[0m",
      "\u001b[0;31mTypeError\u001b[0m                                 Traceback (most recent call last)",
      "Cell \u001b[0;32mIn[23], line 3\u001b[0m\n\u001b[1;32m      1\u001b[0m \u001b[38;5;66;03m# Tuple example\u001b[39;00m\n\u001b[1;32m      2\u001b[0m fruits_tuple \u001b[38;5;241m=\u001b[39m (\u001b[38;5;124m'\u001b[39m\u001b[38;5;124mapple\u001b[39m\u001b[38;5;124m'\u001b[39m, \u001b[38;5;124m'\u001b[39m\u001b[38;5;124mbanana\u001b[39m\u001b[38;5;124m'\u001b[39m, \u001b[38;5;124m'\u001b[39m\u001b[38;5;124mcherry\u001b[39m\u001b[38;5;124m'\u001b[39m)\n\u001b[0;32m----> 3\u001b[0m \u001b[43mfruits_tuple\u001b[49m\u001b[43m[\u001b[49m\u001b[38;5;241;43m1\u001b[39;49m\u001b[43m]\u001b[49m \u001b[38;5;241m=\u001b[39m \u001b[38;5;124m'\u001b[39m\u001b[38;5;124mblueberry\u001b[39m\u001b[38;5;124m'\u001b[39m  \u001b[38;5;66;03m# This will raise a TypeError\u001b[39;00m\n",
      "\u001b[0;31mTypeError\u001b[0m: 'tuple' object does not support item assignment"
     ]
    }
   ],
   "source": [
    "# Tuple example\n",
    "fruits_tuple = ('apple', 'banana', 'cherry')\n",
    "fruits_tuple[1] = 'blueberry'  # This will raise a TypeError"
   ]
  },
  {
   "cell_type": "markdown",
   "id": "ce36705c-bee1-4e0f-a92a-363b559b3d62",
   "metadata": {},
   "source": [
    "### 2. Syntax\n",
    "List: Lists are defined using square brackets ([ ]).\n",
    "\n",
    "Tuple: Tuples are defined using parentheses (( ))."
   ]
  },
  {
   "cell_type": "code",
   "execution_count": 25,
   "id": "4288e21d-0b61-4492-b7a1-8937d476bbfd",
   "metadata": {},
   "outputs": [],
   "source": [
    "# List syntax\n",
    "my_list = [1, 2, 3, 4]\n",
    "\n",
    "# Tuple syntax\n",
    "my_tuple = (1, 2, 3, 4)"
   ]
  },
  {
   "cell_type": "markdown",
   "id": "0d45ebba-a376-4415-ae51-8f15c5560313",
   "metadata": {},
   "source": [
    "### 3. Performance\n",
    "List: Lists are slower than tuples when it comes to iteration or access due to their mutable nature.\n",
    "Tuple: Tuples are generally faster than lists because of their immutability, which makes them lighter and quicker to access."
   ]
  },
  {
   "cell_type": "markdown",
   "id": "967b60a9-cbab-4698-abb1-ed402e93b259",
   "metadata": {},
   "source": [
    "### 4. Use Case\n",
    "List: Use lists when you need a collection of items that can change during the program's execution, such as adding or removing elements.\n",
    "Tuple: Use tuples when you want to create a collection of items that should not change. They are often used for fixed data, like coordinates, or return multiple values from functions."
   ]
  },
  {
   "cell_type": "code",
   "execution_count": 28,
   "id": "803f5dc5-a4cd-4066-9b6c-97068a8426ac",
   "metadata": {},
   "outputs": [
    {
     "name": "stdout",
     "output_type": "stream",
     "text": [
      "['milk', 'eggs', 'bread', 'butter']\n"
     ]
    }
   ],
   "source": [
    "# List use case: Storing items that might change\n",
    "shopping_list = ['milk', 'eggs', 'bread']\n",
    "shopping_list.append('butter')  # Adding an item\n",
    "print(shopping_list)  # Output: ['milk', 'eggs', 'bread', 'butter']"
   ]
  },
  {
   "cell_type": "code",
   "execution_count": 26,
   "id": "2f62bc68-a952-4529-9e7c-65773258dd65",
   "metadata": {},
   "outputs": [
    {
     "ename": "AttributeError",
     "evalue": "'tuple' object has no attribute 'append'",
     "output_type": "error",
     "traceback": [
      "\u001b[0;31m---------------------------------------------------------------------------\u001b[0m",
      "\u001b[0;31mAttributeError\u001b[0m                            Traceback (most recent call last)",
      "Cell \u001b[0;32mIn[26], line 3\u001b[0m\n\u001b[1;32m      1\u001b[0m \u001b[38;5;66;03m# Tuple use case: Storing fixed data\u001b[39;00m\n\u001b[1;32m      2\u001b[0m coordinates \u001b[38;5;241m=\u001b[39m (\u001b[38;5;241m10\u001b[39m, \u001b[38;5;241m20\u001b[39m)\n\u001b[0;32m----> 3\u001b[0m \u001b[43mcoordinates\u001b[49m\u001b[38;5;241;43m.\u001b[39;49m\u001b[43mappend\u001b[49m(\u001b[38;5;241m30\u001b[39m)  \u001b[38;5;66;03m# This will raise an AttributeError\u001b[39;00m\n",
      "\u001b[0;31mAttributeError\u001b[0m: 'tuple' object has no attribute 'append'"
     ]
    }
   ],
   "source": [
    "# Tuple use case: Storing fixed data\n",
    "coordinates = (10, 20)\n",
    "coordinates.append(30)  # This will raise an AttributeError\n"
   ]
  },
  {
   "cell_type": "markdown",
   "id": "2bc6ccfe-373b-4eb3-b1a9-d67bed0653b7",
   "metadata": {},
   "source": [
    "### 5. Methods\n",
    "List: Lists have a wide range of methods like append(), remove(), pop(), sort(), etc.\n",
    "\n",
    "Tuple: Tuples have only two methods: count() and index()."
   ]
  },
  {
   "cell_type": "code",
   "execution_count": 29,
   "id": "0c98be67-ddac-442b-a637-3ceeb8cf24f3",
   "metadata": {},
   "outputs": [
    {
     "name": "stdout",
     "output_type": "stream",
     "text": [
      "[10, 20, 30, 40]\n"
     ]
    }
   ],
   "source": [
    "# List methods\n",
    "numbers_list = [10, 20, 30]\n",
    "numbers_list.append(40)\n",
    "print(numbers_list)  # Output: [10, 20, 30, 40]"
   ]
  },
  {
   "cell_type": "code",
   "execution_count": 30,
   "id": "bbb57766-bd4e-48f2-b41a-9416ca9ee605",
   "metadata": {},
   "outputs": [
    {
     "name": "stdout",
     "output_type": "stream",
     "text": [
      "2\n",
      "1\n"
     ]
    }
   ],
   "source": [
    "# Tuple methods\n",
    "numbers_tuple = (10, 20, 30, 30)\n",
    "print(numbers_tuple.count(30))  # Output: 2\n",
    "print(numbers_tuple.index(20))  # Output: 1"
   ]
  },
  {
   "cell_type": "markdown",
   "id": "716beec2-2f44-434a-be5e-2546ea952a10",
   "metadata": {},
   "source": [
    "### 6. Size/Memory\n",
    "List: Lists use more memory since they are mutable and have extra space to accommodate changes.\n",
    "\n",
    "Tuple: Tuples use less memory because they are immutable and do not require extra space for dynamic changes."
   ]
  },
  {
   "cell_type": "code",
   "execution_count": 31,
   "id": "2bcc96f8-65dc-4ebd-bbba-0ac7478ba411",
   "metadata": {},
   "outputs": [
    {
     "name": "stdout",
     "output_type": "stream",
     "text": [
      "88\n",
      "72\n"
     ]
    }
   ],
   "source": [
    "import sys\n",
    "list_example = [1, 2, 3, 4]\n",
    "tuple_example = (1, 2, 3, 4)\n",
    "\n",
    "print(sys.getsizeof(list_example))  # Output: Larger size\n",
    "print(sys.getsizeof(tuple_example))  # Output: Smaller size"
   ]
  },
  {
   "cell_type": "markdown",
   "id": "53924840-b4a9-4013-b415-be23c8b59eac",
   "metadata": {},
   "source": [
    "### 7. Packing and Unpacking\n",
    "Both lists and tuples support packing and unpacking, though this feature is often more common with tuples."
   ]
  },
  {
   "cell_type": "code",
   "execution_count": 32,
   "id": "808daffb-9804-4d90-bd43-73360e97e8a1",
   "metadata": {},
   "outputs": [
    {
     "name": "stdout",
     "output_type": "stream",
     "text": [
      "John\n",
      "30\n",
      "Engineer\n"
     ]
    }
   ],
   "source": [
    "# Packing and Unpacking with a Tuple\n",
    "person_info = ('John', 30, 'Engineer')\n",
    "name, age, profession = person_info\n",
    "print(name)       # Output: John\n",
    "print(age)        # Output: 30\n",
    "print(profession) # Output: Engineer"
   ]
  },
  {
   "cell_type": "code",
   "execution_count": 33,
   "id": "2b697102-238a-4846-87a4-f0e87a5ee476",
   "metadata": {},
   "outputs": [
    {
     "name": "stdout",
     "output_type": "stream",
     "text": [
      "red\n"
     ]
    }
   ],
   "source": [
    "# Packing and Unpacking with a List\n",
    "colors = ['red', 'green', 'blue']\n",
    "first_color, second_color, third_color = colors\n",
    "print(first_color)  # Output: red\n"
   ]
  },
  {
   "cell_type": "markdown",
   "id": "9ab6fa56-ca8b-4b92-a8f1-ef4f5edbfea5",
   "metadata": {},
   "source": [
    "### 8. Nested Structures\n",
    "Both lists and tuples can contain other lists or tuples as elements, allowing for nested structures."
   ]
  },
  {
   "cell_type": "code",
   "execution_count": 36,
   "id": "7fba89a9-0408-467e-8ae0-43fa8ac5e0d9",
   "metadata": {},
   "outputs": [
    {
     "name": "stdout",
     "output_type": "stream",
     "text": [
      "[1, 2, 3]\n"
     ]
    }
   ],
   "source": [
    "# Nested list\n",
    "nested_list = [[1, 2, 3], [4, 5, 6]]\n",
    "print(nested_list[0])  # Output: [1, 2, 3]"
   ]
  },
  {
   "cell_type": "code",
   "execution_count": 35,
   "id": "94c4551c-4b38-4b81-a5fa-4a8a6c7a23f4",
   "metadata": {},
   "outputs": [
    {
     "name": "stdout",
     "output_type": "stream",
     "text": [
      "(4, 5, 6)\n"
     ]
    }
   ],
   "source": [
    "# Nested tuple\n",
    "nested_tuple = ((1, 2, 3), (4, 5, 6))\n",
    "print(nested_tuple[1])  # Output: (4, 5, 6)"
   ]
  },
  {
   "cell_type": "markdown",
   "id": "dc76e30c-1def-45fc-94ca-3cb523cd15cb",
   "metadata": {},
   "source": [
    "## Ques 5. Describe the key features of sets and provide examples of their use"
   ]
  },
  {
   "cell_type": "markdown",
   "id": "045ff73f-0a32-4389-a520-f117e5ad530f",
   "metadata": {},
   "source": [
    "### Key Features of Sets:\n",
    "#### Unordered Collection: \n",
    "A set is an unordered collection, meaning the items have no specific order.\n",
    "#### Unique Elements:\n",
    "Sets do not allow duplicate elements. Every item in a set must be unique.\n",
    "#### Mutable:\n",
    "While the set itself is mutable (you can add or remove items), the elements in a set must be immutable (e.g., numbers, strings, or tuples).\n",
    "#### No Indexing:\n",
    "Since sets are unordered, they do not support indexing or slicing.\n",
    "#### Efficient Membership Testing:\n",
    "Sets are optimized for checking the presence of an element, making membership tests (like in) very efficient.\n",
    "#### Set Operations:\n",
    "Sets support mathematical set operations like union, intersection, difference, and symmetric difference."
   ]
  },
  {
   "cell_type": "code",
   "execution_count": 40,
   "id": "5d23875e-5295-48f7-867b-7d0e2dfd8b3c",
   "metadata": {},
   "outputs": [],
   "source": [
    "# Creating a set with unique elements\n",
    "my_set = {1, 2, 3, 4}\n",
    "\n",
    "# Creating an empty set (using set(), as {} creates a dictionary)\n",
    "empty_set = set()"
   ]
  },
  {
   "cell_type": "code",
   "execution_count": 47,
   "id": "c68d085f-996a-44ec-81ca-23d32e73cb06",
   "metadata": {},
   "outputs": [
    {
     "data": {
      "text/plain": [
       "{1, 3, 4, 5}"
      ]
     },
     "execution_count": 47,
     "metadata": {},
     "output_type": "execute_result"
    }
   ],
   "source": [
    "# Adding and removing elements\n",
    "my_set = {1, 2, 3, 4}\n",
    "my_set.add(5)  # Add an element\n",
    "my_set.remove(2)  # Remove an element\n",
    "my_set"
   ]
  },
  {
   "cell_type": "code",
   "execution_count": 49,
   "id": "b844a659-fa3b-41a8-afb8-0c4b069e8f82",
   "metadata": {},
   "outputs": [
    {
     "data": {
      "text/plain": [
       "{1, 2, 3, 4, 5}"
      ]
     },
     "execution_count": 49,
     "metadata": {},
     "output_type": "execute_result"
    }
   ],
   "source": [
    "# combining two sets\n",
    "set_a = {1, 2, 3}\n",
    "set_b = {3, 4, 5}\n",
    "union_set = set_a | set_b  # {1, 2, 3, 4, 5}\n",
    "set_a | set_b"
   ]
  },
  {
   "cell_type": "code",
   "execution_count": 67,
   "id": "5c942669-4f13-4c07-a23c-7fafd66f09c0",
   "metadata": {},
   "outputs": [
    {
     "data": {
      "text/plain": [
       "{3}"
      ]
     },
     "execution_count": 67,
     "metadata": {},
     "output_type": "execute_result"
    }
   ],
   "source": [
    "# intersectiion: elements common to both sets\n",
    "intersection_set = set_a & set_b\n",
    "set_a & set_b  # {3}"
   ]
  },
  {
   "cell_type": "code",
   "execution_count": 59,
   "id": "d1454381-a7b9-4f2d-a1f8-6a86b9f306bc",
   "metadata": {},
   "outputs": [
    {
     "data": {
      "text/plain": [
       "{1, 2}"
      ]
     },
     "execution_count": 59,
     "metadata": {},
     "output_type": "execute_result"
    }
   ],
   "source": [
    "# Difference: Elements in one set but not in another\n",
    "set_a = {1, 2, 3}\n",
    "set_b = {3, 4, 5}\n",
    "difference_set = set_a - set_b  # {1, 2}\n",
    "set_a - set_b\n"
   ]
  },
  {
   "cell_type": "code",
   "execution_count": 61,
   "id": "d692fc05-3776-4a84-8914-e694d21f8c7d",
   "metadata": {},
   "outputs": [
    {
     "data": {
      "text/plain": [
       "{1, 2, 4, 5}"
      ]
     },
     "execution_count": 61,
     "metadata": {},
     "output_type": "execute_result"
    }
   ],
   "source": [
    "# Symmetric Difference: Elements in either set but not both\n",
    "sym_diff_set = set_a ^ set_b  # {1, 2, 4, 5}\n",
    "set_a ^ set_b"
   ]
  },
  {
   "cell_type": "code",
   "execution_count": 69,
   "id": "e21f7a54-1c3f-4633-ac82-ffd6bb2fb438",
   "metadata": {},
   "outputs": [
    {
     "data": {
      "text/plain": [
       "True"
      ]
     },
     "execution_count": 69,
     "metadata": {},
     "output_type": "execute_result"
    }
   ],
   "source": [
    "# membership testing\n",
    "my_set = {1, 2, 3, 4}\n",
    "3 in my_set  # True"
   ]
  },
  {
   "cell_type": "code",
   "execution_count": 70,
   "id": "26c1dfd3-35a7-4e5c-817d-f120a2a525b0",
   "metadata": {},
   "outputs": [
    {
     "data": {
      "text/plain": [
       "False"
      ]
     },
     "execution_count": 70,
     "metadata": {},
     "output_type": "execute_result"
    }
   ],
   "source": [
    "7 in my_set"
   ]
  },
  {
   "cell_type": "code",
   "execution_count": 73,
   "id": "cdea787f-0f67-45da-b5a8-aaa17b661c1e",
   "metadata": {},
   "outputs": [
    {
     "data": {
      "text/plain": [
       "{1, 2, 3, 4, 5}"
      ]
     },
     "execution_count": 73,
     "metadata": {},
     "output_type": "execute_result"
    }
   ],
   "source": [
    "# Sets are useful for removing duplicates from a list.\n",
    "my_list = [1, 2, 2, 3, 4, 4, 5]\n",
    "unique_items\n",
    "set(my_list)  # {1, 2, 3, 4, 5}"
   ]
  },
  {
   "cell_type": "code",
   "execution_count": 74,
   "id": "e0c6c125-0dd2-489c-ae1d-c5bb30e02373",
   "metadata": {},
   "outputs": [
    {
     "name": "stdout",
     "output_type": "stream",
     "text": [
      "Found!\n"
     ]
    }
   ],
   "source": [
    "# Checking for membership in a set is faster than in a list.\n",
    "my_set = {10, 20, 30, 40}\n",
    "if 20 in my_set:\n",
    "    print(\"Found!\")  # Membership test is efficient\n"
   ]
  },
  {
   "cell_type": "markdown",
   "id": "6af37248-ad22-4101-b606-94b37c4ad626",
   "metadata": {},
   "source": [
    "## Ques 6. Discuss the use cases of tuples and sets in python programming."
   ]
  },
  {
   "cell_type": "markdown",
   "id": "aea59cef-5145-43fd-ba3a-562d16511993",
   "metadata": {},
   "source": [
    "Tuples and sets in Python serve different purposes and are used in various scenarios. Here’s a rundown of their use cases along with examples:\n",
    "\n",
    "### Tuples\n",
    "#### 1. Immutability:\n",
    "When you need a collection of items that should not be modified."
   ]
  },
  {
   "cell_type": "code",
   "execution_count": 75,
   "id": "680855cc-42d5-45e0-9796-1db87803929e",
   "metadata": {},
   "outputs": [],
   "source": [
    "# storing cordinates in a 2d space\n",
    "coordinates = (10, 20)"
   ]
  },
  {
   "cell_type": "markdown",
   "id": "d5200f98-f47b-4f7d-9357-16495ce1fbaa",
   "metadata": {},
   "source": [
    "#### 2. Data Integrity:\n",
    "When you want to ensure that data remains constant and is protected from accidental modification."
   ]
  },
  {
   "cell_type": "code",
   "execution_count": 76,
   "id": "d60dd0ef-2029-40e2-a8e8-b64835610147",
   "metadata": {},
   "outputs": [
    {
     "name": "stdout",
     "output_type": "stream",
     "text": [
      "(1, 9)\n"
     ]
    }
   ],
   "source": [
    "# Returning multiple values from a function\n",
    "\n",
    "def get_min_max(numbers):\n",
    "    return (min(numbers), max(numbers))\n",
    "\n",
    "result = get_min_max([1, 5, 3, 9])\n",
    "print(result)  # Output: (1, 9)"
   ]
  },
  {
   "cell_type": "markdown",
   "id": "0297eb2e-4bc9-4f50-a1a9-e5fc6bca2548",
   "metadata": {},
   "source": [
    "#### 3. Dictionary Keys:\n",
    "\n",
    "When using collections as dictionary keys, they must be immutable."
   ]
  },
  {
   "cell_type": "code",
   "execution_count": 77,
   "id": "4c1679a4-0547-4d0d-b4d1-44653548a2f5",
   "metadata": {},
   "outputs": [
    {
     "name": "stdout",
     "output_type": "stream",
     "text": [
      "Park\n"
     ]
    }
   ],
   "source": [
    "# Using a tuple as a key in a dictionary.\n",
    "location = {(10, 20): \"Park\", (30, 40): \"Museum\"}\n",
    "print(location[(10, 20)])  # Output: Park"
   ]
  },
  {
   "cell_type": "markdown",
   "id": "66913c02-53f6-4ef5-9235-39f1d5fc2e13",
   "metadata": {},
   "source": [
    "#### 4. Packing and Unpacking:\n",
    "\n",
    "Easily grouping multiple values together and unpacking them."
   ]
  },
  {
   "cell_type": "code",
   "execution_count": 1,
   "id": "9a4a1a47-37bd-47b4-a2fa-1d74c1025e59",
   "metadata": {},
   "outputs": [
    {
     "name": "stdout",
     "output_type": "stream",
     "text": [
      "Alice\n"
     ]
    }
   ],
   "source": [
    "# Unpacking a tuple into variables\n",
    "person = (\"Alice\", 30, \"Engineer\")\n",
    "name, age, profession = person\n",
    "print(name)  # Output: Alice"
   ]
  },
  {
   "cell_type": "markdown",
   "id": "8ba43023-2a68-4304-b616-8efdf019261e",
   "metadata": {},
   "source": [
    "### Sets\n",
    "#### 1. Unique Elements:\n",
    "When you need a collection of unique items and want to ensure there are no duplicates."
   ]
  },
  {
   "cell_type": "code",
   "execution_count": 2,
   "id": "ea25df9e-9a0b-4259-9468-ca65c0c6ea07",
   "metadata": {},
   "outputs": [
    {
     "name": "stdout",
     "output_type": "stream",
     "text": [
      "{1, 2, 3, 4, 5}\n"
     ]
    }
   ],
   "source": [
    "# Removing duplicates from a list\n",
    "numbers = [1, 2, 2, 3, 4, 4, 5]\n",
    "unique_numbers = set(numbers)\n",
    "print(unique_numbers)  # Output: {1, 2, 3, 4, 5}"
   ]
  },
  {
   "cell_type": "markdown",
   "id": "c60c956c-adb4-4856-89f4-ebd8ecd26428",
   "metadata": {},
   "source": [
    "#### 2. Membership Testing\n",
    "Efficiently testing whether an item is in a collection."
   ]
  },
  {
   "cell_type": "code",
   "execution_count": 3,
   "id": "119f2f90-a0f3-435b-885f-423815134365",
   "metadata": {},
   "outputs": [
    {
     "name": "stdout",
     "output_type": "stream",
     "text": [
      "True\n"
     ]
    }
   ],
   "source": [
    "# Checking for membership.\n",
    "fruits = {\"apple\", \"banana\", \"cherry\"}\n",
    "print(\"apple\" in fruits)  # Output: True\n"
   ]
  },
  {
   "cell_type": "markdown",
   "id": "1be2d35f-11e3-47a0-91bc-877f2c66d92c",
   "metadata": {},
   "source": [
    "#### 3. Set Operations:\n",
    "Performing mathematical set operations like union, intersection, difference.\n"
   ]
  },
  {
   "cell_type": "code",
   "execution_count": 5,
   "id": "e09a1499-1082-444f-8d60-2deaa997d004",
   "metadata": {},
   "outputs": [
    {
     "name": "stdout",
     "output_type": "stream",
     "text": [
      "{2, 3}\n"
     ]
    }
   ],
   "source": [
    "# Finding common elements between two sets\n",
    "set1 = {1, 2, 3}\n",
    "set2 = {2, 3, 4}\n",
    "intersection = set1 & set2\n",
    "print(intersection)  # Output: {2, 3}"
   ]
  },
  {
   "cell_type": "markdown",
   "id": "3b72d079-0ec2-4994-be64-9e0a78d101bb",
   "metadata": {},
   "source": [
    "#### 4. Removing Duplicates in Data Structures:\n",
    "\n",
    "Quickly removing duplicate entries in a data structure like a list.\n"
   ]
  },
  {
   "cell_type": "code",
   "execution_count": 6,
   "id": "55268fae-abc7-4cdb-9145-fd0353b0e972",
   "metadata": {},
   "outputs": [
    {
     "name": "stdout",
     "output_type": "stream",
     "text": [
      "{1, 2, 3, 4, 5}\n"
     ]
    }
   ],
   "source": [
    "# Converting a list with duplicates to a set\n",
    "items = [1, 1, 2, 3, 4, 4, 5]\n",
    "unique_items = set(items)\n",
    "print(unique_items)  # Output: {1, 2, 3, 4, 5}"
   ]
  },
  {
   "cell_type": "markdown",
   "id": "eaa0fec0-0ff1-4566-837f-6e37aea639c6",
   "metadata": {},
   "source": [
    "## Ques 7. Describe how to add, modify and delete items in a dictionary with examples."
   ]
  },
  {
   "cell_type": "markdown",
   "id": "6928a2c8-70c6-494b-9924-8a1fb9b262a6",
   "metadata": {},
   "source": [
    "### 1. Adding Items to a Dictionary\n",
    "To add an item to a dictionary, you simply assign a value to a new or existing key."
   ]
  },
  {
   "cell_type": "code",
   "execution_count": 7,
   "id": "f680d88b-2832-43db-84c5-1e2f70346d1f",
   "metadata": {},
   "outputs": [
    {
     "name": "stdout",
     "output_type": "stream",
     "text": [
      "{'name': 'Alice', 'age': 25}\n"
     ]
    }
   ],
   "source": [
    "# Create an empty dictionary\n",
    "my_dict = {}\n",
    "\n",
    "# Add a key-value pair\n",
    "my_dict['name'] = 'Alice'\n",
    "my_dict['age'] = 25\n",
    "\n",
    "print(my_dict)"
   ]
  },
  {
   "cell_type": "markdown",
   "id": "89297da7-9a04-465d-96a1-4bfa1385f7d3",
   "metadata": {},
   "source": [
    "### 2. Modifying Items in a Dictionary\n",
    "To modify an existing item, you assign a new value to the key."
   ]
  },
  {
   "cell_type": "code",
   "execution_count": 8,
   "id": "c4eb9e8f-fc62-41e3-812d-823b974d80fe",
   "metadata": {},
   "outputs": [
    {
     "name": "stdout",
     "output_type": "stream",
     "text": [
      "{'name': 'Alice', 'age': 26}\n"
     ]
    }
   ],
   "source": [
    "# Modify the value of an existing key\n",
    "my_dict['age'] = 26\n",
    "\n",
    "print(my_dict)"
   ]
  },
  {
   "cell_type": "markdown",
   "id": "21415717-2c22-4d7c-b5ec-f7fb22a4feb0",
   "metadata": {},
   "source": [
    "### 3. Deleting Items from a Dictionary\n",
    "There are several ways to delete items from a dictionary:\n",
    "\n",
    "1. Using del: This removes the item with the specified key.\n",
    "2. Using pop(): This removes the item with the specified key and returns its value.\n",
    "3. Using popitem(): This removes and returns the last key value pair.\n",
    "4. Using clear(): This removes all items from the dictionary."
   ]
  },
  {
   "cell_type": "code",
   "execution_count": 11,
   "id": "561e5ec1-e1c3-4a26-a842-9c14a290b424",
   "metadata": {},
   "outputs": [
    {
     "name": "stdout",
     "output_type": "stream",
     "text": [
      "{'age': 25}\n"
     ]
    }
   ],
   "source": [
    "# Delete using del.# Delete a key-value pair and return its value\n",
    "my_dict['name'] = 'Alice'\n",
    "my_dict['age'] = 25\n",
    "del my_dict['name']\n",
    "\n",
    "print(my_dict)"
   ]
  },
  {
   "cell_type": "code",
   "execution_count": 21,
   "id": "a2665c18-97e9-4eff-a264-2fab134ab7a8",
   "metadata": {},
   "outputs": [
    {
     "name": "stdout",
     "output_type": "stream",
     "text": [
      "('city', 'New York')\n",
      "{'name': 'Alice', 'age': 26}\n"
     ]
    }
   ],
   "source": [
    "# using popitem\n",
    "my_dict = {'name': 'Alice', 'age': 26, 'city': 'New York'}\n",
    "\n",
    "# Remove and return the last inserted key-value pair\n",
    "last_item = my_dict.popitem()\n",
    "\n",
    "print(last_item)   # Output: ('city', 'New York')\n",
    "print(my_dict)     # Output: {'name': 'Alice', 'age': 26}\n",
    "\n"
   ]
  },
  {
   "cell_type": "code",
   "execution_count": 22,
   "id": "e35a8948-ac40-4581-abe3-5757b580302d",
   "metadata": {},
   "outputs": [
    {
     "name": "stdout",
     "output_type": "stream",
     "text": [
      "{}\n"
     ]
    }
   ],
   "source": [
    "# using clear ()\n",
    "my_dict.clear()\n",
    "\n",
    "print(my_dict)\n"
   ]
  },
  {
   "cell_type": "markdown",
   "id": "01b58389-eb2d-4657-9643-5e64162bb061",
   "metadata": {},
   "source": [
    "## Ques 8. Discuss the importance of dictionary keys being immutable and provide examples."
   ]
  },
  {
   "cell_type": "markdown",
   "id": "de7fc0f1-243c-4e43-862e-8e521b6312a1",
   "metadata": {},
   "source": [
    "In Python, dictionary keys must be immutable because the underlying data structure of a dictionary relies on efficient lookups, which depend on a stable hash value.\n",
    "Python dictionaries use a hash table under the hood to store key-value pairs. A hash table uses the key's hash value to determine where the value should be stored in memory. Immutable types have a consistent hash value that doesn’t change during the lifetime of the object. If a key were mutable (i.e., it could change after being added to the dictionary), it could change its hash value, causing issues in retrieving or updating the associated value."
   ]
  },
  {
   "cell_type": "code",
   "execution_count": 24,
   "id": "4407a9c1-b479-4366-89a6-a4c74423b2a5",
   "metadata": {},
   "outputs": [
    {
     "name": "stdout",
     "output_type": "stream",
     "text": [
      "Alice\n"
     ]
    }
   ],
   "source": [
    "# Immutable key (string)\n",
    "d = {'name': 'Alice'}\n",
    "print(d['name'])  # This works fine\n"
   ]
  },
  {
   "cell_type": "code",
   "execution_count": 25,
   "id": "7143aa8a-b0c6-4536-b88f-baac6772b43b",
   "metadata": {},
   "outputs": [
    {
     "ename": "TypeError",
     "evalue": "unhashable type: 'list'",
     "output_type": "error",
     "traceback": [
      "\u001b[0;31m---------------------------------------------------------------------------\u001b[0m",
      "\u001b[0;31mTypeError\u001b[0m                                 Traceback (most recent call last)",
      "Cell \u001b[0;32mIn[25], line 2\u001b[0m\n\u001b[1;32m      1\u001b[0m \u001b[38;5;66;03m# Trying a mutable key (list) would fail\u001b[39;00m\n\u001b[0;32m----> 2\u001b[0m d \u001b[38;5;241m=\u001b[39m {[\u001b[38;5;241m1\u001b[39m, \u001b[38;5;241m2\u001b[39m, \u001b[38;5;241m3\u001b[39m]: \u001b[38;5;124m'\u001b[39m\u001b[38;5;124mvalue\u001b[39m\u001b[38;5;124m'\u001b[39m}  \u001b[38;5;66;03m# Raises TypeError: unhashable type: 'list'\u001b[39;00m\n",
      "\u001b[0;31mTypeError\u001b[0m: unhashable type: 'list'"
     ]
    }
   ],
   "source": [
    "# Trying a mutable key (list) would fail\n",
    "d = {[1, 2, 3]: 'value'}  # Raises TypeError: unhashable type: 'list'\n"
   ]
  },
  {
   "cell_type": "markdown",
   "id": "4eecebe0-1257-4675-9302-8c1a9fb14fce",
   "metadata": {},
   "source": [
    "If the key could change (mutability), the dictionary would not be able to guarantee consistent lookups. Since keys are used to calculate the position of a value, changing the key after insertion would cause the dictionary to lose track of the value, leading to undefined behavior."
   ]
  },
  {
   "cell_type": "code",
   "execution_count": 27,
   "id": "12004b2c-a705-4446-950f-0e3f3a4c6062",
   "metadata": {},
   "outputs": [
    {
     "ename": "TypeError",
     "evalue": "unhashable type: 'list'",
     "output_type": "error",
     "traceback": [
      "\u001b[0;31m---------------------------------------------------------------------------\u001b[0m",
      "\u001b[0;31mTypeError\u001b[0m                                 Traceback (most recent call last)",
      "Cell \u001b[0;32mIn[27], line 2\u001b[0m\n\u001b[1;32m      1\u001b[0m key \u001b[38;5;241m=\u001b[39m [\u001b[38;5;241m1\u001b[39m, \u001b[38;5;241m2\u001b[39m, \u001b[38;5;241m3\u001b[39m]\n\u001b[0;32m----> 2\u001b[0m d \u001b[38;5;241m=\u001b[39m {key: \u001b[38;5;124m'\u001b[39m\u001b[38;5;124mvalue\u001b[39m\u001b[38;5;124m'\u001b[39m}\n\u001b[1;32m      3\u001b[0m key\u001b[38;5;241m.\u001b[39mappend(\u001b[38;5;241m4\u001b[39m)\n\u001b[1;32m      4\u001b[0m \u001b[38;5;28mprint\u001b[39m(d[key])  \u001b[38;5;66;03m# What should happen here? The key is now [1, 2, 3, 4], different from the original.\u001b[39;00m\n",
      "\u001b[0;31mTypeError\u001b[0m: unhashable type: 'list'"
     ]
    }
   ],
   "source": [
    "# For instance, if a mutable object like a list were allowed:\n",
    "key = [1, 2, 3]\n",
    "d = {key: 'value'}\n",
    "key.append(4)\n",
    "print(d[key])  # What should happen here? The key is now [1, 2, 3, 4], different from the original.\n",
    "# In this case, the dictionary would not be able to find the original key because its hash would have changed after the modification."
   ]
  },
  {
   "cell_type": "markdown",
   "id": "9417d9dd-dabb-49f7-8192-26e748baf193",
   "metadata": {},
   "source": [
    "The most common immutable types used as dictionary keys are"
   ]
  },
  {
   "cell_type": "code",
   "execution_count": 28,
   "id": "056fcffd-f950-4ff6-9d05-02f51e4e176f",
   "metadata": {},
   "outputs": [],
   "source": [
    "# Strings: These are immutable and often used as keys for their readability.\n",
    "d = {'name': 'John', 'age': 25}\n"
   ]
  },
  {
   "cell_type": "code",
   "execution_count": 29,
   "id": "565cd928-2c90-4c63-8e3d-74a17af8063e",
   "metadata": {},
   "outputs": [
    {
     "name": "stdout",
     "output_type": "stream",
     "text": [
      "coordinates\n"
     ]
    }
   ],
   "source": [
    "# Tuples: If you need a composite key (a combination of multiple values), tuples can be used, as they are immutable.\n",
    "d = {(1, 2): 'coordinates', (3, 4): 'position'}\n",
    "print(d[(1, 2)])  # 'coordinates'\n"
   ]
  },
  {
   "cell_type": "code",
   "execution_count": 30,
   "id": "0455d6ff-751f-4cd4-8376-6df589032f5e",
   "metadata": {},
   "outputs": [],
   "source": [
    "# Numbers: Integers, floats, and other immutable numeric types can also be keys.\n",
    "d = {1: 'one', 2: 'two'}\n"
   ]
  }
 ],
 "metadata": {
  "kernelspec": {
   "display_name": "Python 3 (ipykernel)",
   "language": "python",
   "name": "python3"
  },
  "language_info": {
   "codemirror_mode": {
    "name": "ipython",
    "version": 3
   },
   "file_extension": ".py",
   "mimetype": "text/x-python",
   "name": "python",
   "nbconvert_exporter": "python",
   "pygments_lexer": "ipython3",
   "version": "3.10.8"
  }
 },
 "nbformat": 4,
 "nbformat_minor": 5
}
